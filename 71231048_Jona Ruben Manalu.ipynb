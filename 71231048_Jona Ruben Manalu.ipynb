{
 "cells": [
  {
   "cell_type": "code",
   "execution_count": 7,
   "id": "2b7f8e48",
   "metadata": {},
   "outputs": [
    {
     "name": "stdout",
     "output_type": "stream",
     "text": [
      "[10, 9, 9]\n"
     ]
    }
   ],
   "source": [
    "#latihan mandiri 9.1\n",
    "angka = [1,4,5,6,7,8,9,8,9,10]\n",
    "bil = set()\n",
    "urutan =[]\n",
    "for i in angka:\n",
    "    if i not in bil:\n",
    "        urutan.append(i)\n",
    "    urutan.sort(reverse = 1)\n",
    "print(urutan[:3])"
   ]
  },
  {
   "cell_type": "code",
   "execution_count": 1,
   "id": "5517870b",
   "metadata": {},
   "outputs": [
    {
     "name": "stdout",
     "output_type": "stream",
     "text": [
      "Masukan Angkanya = 900\n",
      "Masukan Angkanya = 80\n",
      "Masukan Angkanya = 7\n",
      "Masukan Angkanya = 3\n",
      "Masukan Angkanya = done\n",
      ".....Sudah Selesai......\n",
      "\n",
      "Nilai Max  =   900 \n",
      "Nilai Min  =   3\n"
     ]
    }
   ],
   "source": [
    "#latihan mandiri 9.2\n",
    "nilai = []\n",
    "while True:\n",
    "    try:\n",
    "        angka = eval(input(\"Masukan Angkanya = \"))\n",
    "        if angka <= 0 or angka > 0:\n",
    "            nilai.append(angka)\n",
    "    except:\n",
    "        print(\".....Sudah Selesai......\")\n",
    "        break\n",
    "print(\"\\nNilai Max  =  \", max(nilai),\"\\nNilai Min  =  \", min(nilai))"
   ]
  },
  {
   "cell_type": "code",
   "execution_count": 8,
   "id": "dae3f6d6",
   "metadata": {},
   "outputs": [
    {
     "name": "stdout",
     "output_type": "stream",
     "text": [
      "====ISI BERITA==== \n",
      " Diambil dari buku Mencari Informasi Terkini oleh Kemdikbud, teks berita merupakan teks yang berisi mengenai suatu kejadian, peristiwa atau informasi berupa fakta. Teks berita juga dapat ditemui di berbagai platform media sosial, di mana headline atau ringkasan berita sering dibagikan untuk memberikan informasi singkat kepada pengguna.Untuk menulis teks berita terdapat beberapa hal yang perlu diperhatikan, yaitu struktur tulisan dan unsur-unsurnya.\n",
      "====KATA UNIK==== \n",
      " ['Kemdikbud,', 'dapat', 'sosial,', 'yang', 'tulisan', 'unsur-unsurnya.', 'Terkini', 'diperhatikan,', 'kepada', 'fakta.', 'berupa', 'headline', 'menulis', 'juga', 'suatu', 'Teks', 'beberapa', 'untuk', 'ringkasan', 'dari', 'Diambil', 'mengenai', 'hal', 'struktur', 'berisi', 'atau', 'Informasi', 'Mencari', 'teks', 'sering', 'singkat', 'oleh', 'buku', 'di', 'platform', 'terdapat', 'berbagai', 'perlu', 'mana', 'kejadian,', 'ditemui', 'dibagikan', 'media', 'memberikan', 'pengguna.Untuk', 'berita', 'informasi', 'dan', 'yaitu', 'peristiwa', 'merupakan']\n"
     ]
    }
   ],
   "source": [
    "#latihan mandiri 9.3\n",
    "filename = \"teksberita.txt\"\n",
    "kata = []\n",
    "handle = open(filename,\"r\")\n",
    "line = handle.read()\n",
    "line_r = line.replace(\"\\n\", \"\")\n",
    "line_s= line_r.split(\" \")\n",
    "pecah_kata = set(line_s)\n",
    "kata.extend(list(pecah_kata))\n",
    "print(\"====ISI BERITA====\", \"\\n\",line)\n",
    "print(\"====KATA UNIK====\", \"\\n\", kata)"
   ]
  }
 ],
 "metadata": {
  "kernelspec": {
   "display_name": "Python 3 (ipykernel)",
   "language": "python",
   "name": "python3"
  },
  "language_info": {
   "codemirror_mode": {
    "name": "ipython",
    "version": 3
   },
   "file_extension": ".py",
   "mimetype": "text/x-python",
   "name": "python",
   "nbconvert_exporter": "python",
   "pygments_lexer": "ipython3",
   "version": "3.11.5"
  }
 },
 "nbformat": 4,
 "nbformat_minor": 5
}
